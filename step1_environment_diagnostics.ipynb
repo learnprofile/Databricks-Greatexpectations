{
 "cells": [
  {
   "cell_type": "markdown",
   "metadata": {
    "application/vnd.databricks.v1+cell": {
     "cellMetadata": {
      "byteLimit": 2048000,
      "rowLimit": 10000
     },
     "inputWidgets": {},
     "nuid": "bf5dbd85-04cc-4e51-bcc9-d3609e50b9fd",
     "showTitle": false,
     "tableResultSettingsMap": {},
     "title": ""
    }
   },
   "source": [
    "# Step 1: Great Expectations Installation & Setup\n",
    "\n"
   ]
  },
  {
   "cell_type": "code",
   "execution_count": 0,
   "metadata": {
    "application/vnd.databricks.v1+cell": {
     "cellMetadata": {
      "byteLimit": 2048000,
      "rowLimit": 10000
     },
     "inputWidgets": {},
     "nuid": "9c9b1287-85ad-4eb4-a22d-db21b069adff",
     "showTitle": false,
     "tableResultSettingsMap": {},
     "title": ""
    }
   },
   "outputs": [
    {
     "output_type": "stream",
     "name": "stdout",
     "output_type": "stream",
     "text": [
      "Python Version: 3.11.11\n\nGreat Expectations version: 1.5.6\n"
     ]
    }
   ],
   "source": [
    "\n",
    "import json\n",
    "import sys\n",
    "\n",
    "\n",
    "step1_results = {\n",
    "    \"status\": \"running\",\n",
    "    \"databricks_detected\": False,\n",
    "    \"python_version\": sys.version,\n",
    "    \"gx_version\": None,\n",
    "    \"sqlalchemy_version\": None,\n",
    "    \"pandas_version\": None,\n",
    "    \"ready_for_step2\": False\n",
    "}\n",
    "\n",
    "\n",
    "try:\n",
    "    dbutils.fs.ls('/')\n",
    "    step1_results[\"databricks_detected\"] = True\n",
    "  \n",
    "except:\n",
    "    step1_results[\"databricks_detected\"] = False\n",
    "\n",
    "print(f\"Python Version: {sys.version.split()[0]}\")\n",
    "\n",
    "try:\n",
    "\n",
    "    import subprocess\n",
    "    result = subprocess.run([\n",
    "        sys.executable, \"-m\", \"pip\", \"install\", \n",
    "        \"great-expectations\", \"sqlalchemy\", \"pyodbc\", \"pandas\"\n",
    "    ], capture_output=True, text=True)\n",
    "    \n",
    "    if result.returncode == 0:\n",
    "        print(\"\")\n",
    "    else:\n",
    "        print(f\"{result.stderr}\")     \n",
    "except Exception as e:\n",
    "    step1_results[\"status\"] = \"error\"\n",
    "\n",
    "try:\n",
    "    import great_expectations as gx\n",
    "    from datetime import datetime\n",
    "    step1_results[\"gx_version\"] = gx.__version__\n",
    "    print(f\"Great Expectations version: {gx.__version__}\")\n",
    "    step1_results[\"ready_for_step2\"] = True\n",
    "    step1_results[\"status\"] = \"success\"\n",
    "    \n",
    "except ImportError as e:\n",
    "    print(f\"Import failed: {e}\")\n",
    "    step1_results[\"status\"] = \"error\"\n",
    "    step1_results[\"ready_for_step2\"] = False"
   ]
  }
 ],
 "metadata": {
  "application/vnd.databricks.v1+notebook": {
   "computePreferences": null,
   "dashboards": [],
   "environmentMetadata": null,
   "inputWidgetPreferences": null,
   "language": "python",
   "notebookMetadata": {
    "pythonIndentUnit": 4
   },
   "notebookName": "step1_environment_diagnostics",
   "widgets": {}
  },
  "language_info": {
   "name": "python"
  }
 },
 "nbformat": 4,
 "nbformat_minor": 0
}